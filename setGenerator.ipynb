{
 "cells": [
  {
   "cell_type": "code",
   "execution_count": 128,
   "metadata": {},
   "outputs": [],
   "source": [
    "# Google drive file ID for spreadsheet\n",
    "GDID = '1k7uoC0_GWPJ2x-mMPYTEyaBXUvmaegJ_'"
   ]
  },
  {
   "cell_type": "code",
   "execution_count": 129,
   "metadata": {},
   "outputs": [],
   "source": [
    "import requests\n",
    "url = 'https://drive.google.com/uc?export=download&id='+GDID\n",
    "myfile = requests.get(url)\n",
    "open('setExcel.xlsm', 'wb').write(myfile.content);"
   ]
  },
  {
   "cell_type": "code",
   "execution_count": 130,
   "metadata": {},
   "outputs": [],
   "source": [
    "# Copy Excel Sheet over to sheet that contains the macros, and run the macros\n",
    "# This will create two .xml files. One in the main directory called setEons.xml, which contains the card data needed by Strange Eons.\n",
    "# The second will be placed in the setOCTGN folder, which will be copied over to your OCTGN folder later in this workbook.\n",
    "\n",
    "import xlwings as xw\n",
    "app = xw.App(visible=False) # IF YOU WANT EXCEL TO RUN IN BACKGROUND\n",
    "xlws = {}\n",
    "\n",
    "xlwb1 = xw.Book('setExcel.xlsm')\n",
    "xlws['ws1a'] = xlwb1.sheets['Sets']\n",
    "xlws['ws1b'] = xlwb1.sheets['Card Data']\n",
    "\n",
    "xlwb2 = xw.Book('macros.xlsm')\n",
    "xlws['ws2a'] = xlwb2.sheets['Sets']\n",
    "xlws['ws2b'] = xlwb2.sheets['Card Data']\n",
    "\n",
    "newVal = xlws['ws1a'].range('A3:B3').value   # get set id/name\n",
    "xlws['ws2a'].range('A3:B3').value = newVal   # update set id/name\n",
    "\n",
    "newVal = xlws['ws1b'].range('A2:AT1000').value   # get card data\n",
    "xlws['ws2b'].range('A2:AT1000').value = newVal   # update card data\n",
    "\n",
    "# This macro will generate a folder under setOCTGN, which which will be copied over to OCTGN\\GameDatabase\\a21af4e8-be4b-4cda-a6b6-534f9717391f\\Sets \n",
    "macro1 = xlwb2.macro('SaveOCTGN')\n",
    "macro1()\n",
    "\n",
    "# This macro generates a file called setEons.xml, which is used by the Strange Eons macros.\n",
    "macro2 = xlwb2.macro('SaveXML')\n",
    "macro2()\n",
    "\n",
    "xlwb2.save()\n",
    "xlwb1.close()\n",
    "xlwb2.close()"
   ]
  },
  {
   "cell_type": "markdown",
   "metadata": {},
   "source": [
    "### Strange Eons instructions:\n",
    "\n",
    "Start by opening up the `setGenerator.seproject` file in the main directory.\n",
    "\n",
    "### Now, if it's your first time opening Strange Eons for this project:\n",
    "\n",
    "1. Open each of the files in \"template\" and edit the \"Collection\" tab for each one as needed for the project.\n",
    "2. Run the makeCards script by double clicking it. This will take the templates, fill them with the text from the setEons.xml generated above, and save them under the \"new\" folder in Strange Eons.\n",
    "3. Move all the files in \"new\" to \"current\".\n",
    "\n",
    "### To add images:\n",
    "1. Open up a file in \"current\"\n",
    "2. Click on the Portrait tab\n",
    "3. From your computer, navigate to the imagesRaw folder and drag an image from there into Strange Eons to add it to the card.\n",
    "4. Within Strange Eons, move and scale the image as necessary.\n",
    "5. If it's an encounter card, do the same thing with the encounter set icon with the Encounter Set tab and the imagesIcons folder.\n",
    "6. Save the file, close it, and move on to the next.\n",
    "7. Note: If you do any modifications to the text, they will not be preserved by the next macro. Modifications to the text should be done only in the original Google sheet.\n",
    "\n",
    "### To update text without messing up the images:\n",
    "1. Modify the Google sheet text.\n",
    "2. Run the above python cells to update the setEons.xml file. \n",
    "3. Run the updateCards script in Stange Eons by double clicking it. This will take the cards in \"current\", which should have images now, put in the updated text from the setEons.xml generated above, and save them under the \"updated\" folder in Strange Eons.\n",
    "\n",
    "### To export the cards\n",
    "1. Make sure the \"Bulk Export\" Plug-in is installed.\n",
    "2. Right-click the \"updated\" folder, click on \"Bulk Export, choose the settings you want, and hit \"Export\"\n",
    "3. Once complete, copy all the files in \"updated\" to your imagesEons folder (the .eon file too if you want).\n",
    "\n",
    "### Important: Dealing with name, id, etc. changes\n",
    "Since the Card Number, Quantity, Name, and OCTGN ID all appear in the file name, any changes to these values will result in a desyncronization when trying to run updateCards. Here are the steps to follow in this case:\n",
    "1. In the \"current\" Strange Eons folder, manually fix the relevant file name.\n",
    "2. If your modification resulted in a longer filename, remove some \"-\" characters so that the total number of characters in the file name stays constant.\n",
    "3. Alternatively, if your modification resulted in a shorter filename, add extra \"-\" characters so that the total number of characters in the file name stays constant.\n",
    "4. Then, run the updateCards script."
   ]
  },
  {
   "cell_type": "markdown",
   "metadata": {},
   "source": [
    "## Update OCTGN"
   ]
  },
  {
   "cell_type": "code",
   "execution_count": 102,
   "metadata": {},
   "outputs": [],
   "source": [
    "import os\n",
    "# Directory of OCTGN installation\n",
    "dirOCTGN = os.path.expanduser('~')+'\\\\Documents\\\\OCTGN\\\\'\n",
    "if not os.path.isdir(dirOCTGN): print('Invalid path!')"
   ]
  },
  {
   "cell_type": "code",
   "execution_count": 113,
   "metadata": {},
   "outputs": [
    {
     "name": "stdout",
     "output_type": "stream",
     "text": [
      "Working...\n",
      "Finished.\n"
     ]
    }
   ],
   "source": [
    "#Make Image Pack\n",
    "import os.path\n",
    "import zipfile\n",
    "import shutil\n",
    "\n",
    "# Move files from startpath to newpath, then scan through files, processes them, and add them to a zip file to create an image pack\n",
    "def zipdir(startpath, newpath, ziph):\n",
    "    # Move files in current directory to new directory\n",
    "    for root, dirs, files in os.walk(startpath):\n",
    "        for file in files:\n",
    "            oldfile = startpath+'/'+file\n",
    "            if (file.endswith('.png') and os.path.isfile(oldfile)):\n",
    "                newfile=newpath+file\n",
    "                shutil.copyfile(oldfile, newfile)\n",
    "                \n",
    "    # Zip files in new directory\n",
    "    for root, dirs, files in os.walk(newpath):\n",
    "        for file in files:\n",
    "            if file.endswith('-1.png'):\n",
    "                shutil.move(newpath+file, newpath+file.replace('-1.png', '.png'))\n",
    "                file = file.replace('-1.png', '.png')\n",
    "            if file.endswith('-2.png'):\n",
    "                shutil.move(newpath+file, newpath+file.replace('-2.png', '.B.png'))\n",
    "                file = file.replace('-2.png', '.B.png')\n",
    "            if (file.endswith('.png')):\n",
    "                if len(file)>50: \n",
    "                        shutil.move(newpath+file, newpath+file[50:])\n",
    "                        file = file[50:]\n",
    "                ziph.write(os.path.join(root, file))\n",
    "\n",
    "\n",
    "# Current directory\n",
    "cwd = os.getcwd()\n",
    "\n",
    "# OCTGN Set ID obtained by looking at the folders generated by the excel SaveOCTGN script\n",
    "octgnids = os.listdir(cwd+'/setOCTGN')\n",
    "if len(octgnids) == 0:\n",
    "    print(\"No set folder found in ./setOCTGN. Did you run the excel script?\")\n",
    "else:\n",
    "    for octgnid in octgnids:\n",
    "        # Make directory tree to store images that will be converted to an image pack\n",
    "        newpath = \".\\\\imagesOCTGN\\\\a21af4e8-be4b-4cda-a6b6-534f9717391f\\\\Sets\\\\\"+octgnid+\"\\\\Cards\\\\\"\n",
    "        if not os.path.exists(newpath):\n",
    "            os.makedirs(newpath)\n",
    "\n",
    "        # Remove any existing image pack\n",
    "        fname = 'imagePack_'+octgnid+'.o8c'\n",
    "        if os.path.isfile(fname): os.remove(fname)\n",
    "\n",
    "        # Make a zip file\n",
    "        zipf = zipfile.ZipFile(fname, 'w', zipfile.ZIP_DEFLATED)\n",
    "\n",
    "        # Add images to the zip file\n",
    "        print('Working...')\n",
    "        zipdir('./imagesEons',newpath, zipf)\n",
    "        print('Finished.')\n",
    "\n",
    "        # Close the zip file\n",
    "        zipf.close()\n",
    "        \n",
    "        # Now there should be an imagePack_<octgnid>.o8c file in the main directory. \n",
    "        # Open that using the \"Add Image Packs\" button from within OCTGN to add it.\n"
   ]
  },
  {
   "cell_type": "code",
   "execution_count": 109,
   "metadata": {},
   "outputs": [
    {
     "name": "stdout",
     "output_type": "stream",
     "text": [
      "Copied successfully.\n"
     ]
    }
   ],
   "source": [
    "# Copy set folder to OCTGN directory\n",
    "from distutils.dir_util import copy_tree\n",
    "setspath = dirOCTGN+'\\\\GameDatabase\\\\a21af4e8-be4b-4cda-a6b6-534f9717391f\\\\Sets\\\\'\n",
    "if os.path.isdir(dirOCTGN):\n",
    "    if os.path.isdir('.\\\\setOCTGN\\\\'+octgnid):\n",
    "        copy_tree('.\\\\setOCTGN\\\\'+octgnid, setspath+octgnid)\n",
    "        print('Copied successfully.')\n",
    "    else:\n",
    "        print('No folder found to move.')\n",
    "else:\n",
    "    print('OCTGN Sets folder not found.')"
   ]
  },
  {
   "cell_type": "code",
   "execution_count": null,
   "metadata": {},
   "outputs": [],
   "source": []
  }
 ],
 "metadata": {
  "kernelspec": {
   "display_name": "Python 3",
   "language": "python",
   "name": "python3"
  },
  "language_info": {
   "codemirror_mode": {
    "name": "ipython",
    "version": 3
   },
   "file_extension": ".py",
   "mimetype": "text/x-python",
   "name": "python",
   "nbconvert_exporter": "python",
   "pygments_lexer": "ipython3",
   "version": "3.7.6"
  }
 },
 "nbformat": 4,
 "nbformat_minor": 4
}
